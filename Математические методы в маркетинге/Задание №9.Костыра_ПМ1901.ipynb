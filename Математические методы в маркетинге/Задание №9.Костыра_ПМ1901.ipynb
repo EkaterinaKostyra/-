{
 "cells": [
  {
   "cell_type": "markdown",
   "id": "fe730c0f",
   "metadata": {},
   "source": [
    "## Костыра Екатерина ПМ_1901"
   ]
  },
  {
   "cell_type": "markdown",
   "id": "ready-freedom",
   "metadata": {},
   "source": [
    "## Занятие 7. Линейные модели для регрессии"
   ]
  },
  {
   "cell_type": "markdown",
   "id": "premium-packaging",
   "metadata": {},
   "source": [
    "Веберите любые данные для задачи регрессии из репозитория данных для машинного обучения (UCI Machine learning repository: http://archive.ics.uci.edu/ml/index.php) или возьмите свои данные и постройте линейные модели в соответствии со следующей схемой. Комментарии к каждому разделу обязательны."
   ]
  },
  {
   "cell_type": "markdown",
   "id": "4fdf3a74",
   "metadata": {},
   "source": [
    "Цель набора данных - диагностически предсказать, есть ли у пациента диабет, на основе определенных диагностических измерений, включенных в набор данных.\n",
    "\n",
    "Наборы данных состоят из нескольких медицинских предикторов (независимых) и одной целевой (зависимой) переменной, результата . Независимые переменные включают количество беременностей у пациентки, их ИМТ, уровень инсулина, возраст и т. Д."
   ]
  },
  {
   "cell_type": "markdown",
   "id": "2cf5a2ac",
   "metadata": {},
   "source": [
    "#### Информация об атрибутах:\n",
    "1. preg - Количество беременных\n",
    "2. plas - Глюкоза\n",
    "3. pres - Кровяное давление (мм рт. Ст.)\n",
    "4. skin - Толщина кожи (мм)\n",
    "5. test - Инсулин\n",
    "6. mass - Индекс массы тела (вес в кг / (рост в м) ^ 2)\n",
    "7. pedi - Сахарный диабет\n",
    "8. age - Возраст (лет)\n",
    "9. class - Исход (Переменная класса (0, если не диабет, 1, если диабет) 268 из 768 равны 1, остальные равны 0)"
   ]
  },
  {
   "cell_type": "code",
   "execution_count": 1,
   "id": "behavioral-edition",
   "metadata": {},
   "outputs": [],
   "source": [
    "import os\n",
    "os.chdir(\"C:/Users/79811/anaconda3/\")"
   ]
  },
  {
   "cell_type": "markdown",
   "id": "stuck-maine",
   "metadata": {},
   "source": [
    "### Linear Regression"
   ]
  },
  {
   "cell_type": "markdown",
   "id": "304f9dad",
   "metadata": {},
   "source": [
    "Линейная регрессия вычисляет оценки коэффициентов регрессии или просто прогнозируемых весов , обозначенных 𝑏₀, 𝑏₁,…, 𝑏ᵣ. Они определяют оценочную функцию регрессии 𝑓 (𝐱) = 𝑏₀ + 𝑏₁𝑥₁ + ⋯ + 𝑏ᵣ𝑥ᵣ. Эта функция должна достаточно хорошо фиксировать зависимости между входами и выходами. \n",
    "\n",
    "Регрессия заключается в определении наилучших предсказанных весов , то есть весов, соответствующих наименьшим остаткам.\n",
    "\n",
    "Чтобы получить наилучшие веса, вы обычно минимизируете сумму квадратов остатков (SSR) для всех наблюдений 𝑖 = 1,…, 𝑛: SSR = Σᵢ (𝑦ᵢ - 𝑓 (𝐱ᵢ)) ². Такой подход называется методом наименьших квадратов "
   ]
  },
  {
   "cell_type": "code",
   "execution_count": 11,
   "id": "f52fa4cd",
   "metadata": {},
   "outputs": [
    {
     "name": "stdout",
     "output_type": "stream",
     "text": [
      "-0.16320738575907065\n"
     ]
    }
   ],
   "source": [
    "# Linear Regression\n",
    "from pandas import read_csv\n",
    "from sklearn.model_selection import KFold\n",
    "from sklearn.model_selection import cross_val_score\n",
    "from sklearn.linear_model import LinearRegression\n",
    "filename = 'pima-indians-diabetes.data.csv'\n",
    "names = ['preg', 'plas', 'pres', 'skin', 'test', 'mass', 'pedi', 'age', 'class']\n",
    "dataframe = read_csv(filename, names=names)\n",
    "array = dataframe.values\n",
    "X = array[:,0:8]\n",
    "Y = array[:,8]\n",
    "kfold = KFold(n_splits=10, random_state=7, shuffle=True)\n",
    "model = LinearRegression()\n",
    "scoring = 'neg_mean_squared_error'\n",
    "results = cross_val_score(model, X, Y, cv=kfold, scoring=scoring)\n",
    "print(results.mean())"
   ]
  },
  {
   "cell_type": "markdown",
   "id": "99b1784f",
   "metadata": {},
   "source": [
    "Оценка коэффициентов регрессии равна -0.16"
   ]
  },
  {
   "cell_type": "markdown",
   "id": "alike-ground",
   "metadata": {},
   "source": [
    "### Ridge Regression"
   ]
  },
  {
   "cell_type": "markdown",
   "id": "ce5e4106",
   "metadata": {},
   "source": [
    "Гребневая регрессия или ридж-регрессия (англ. ridge regression) — один из методов понижения размерности, усовершенствование линейной регрессии с повышенной устойчивостью к ошибкам, налагающая ограничения на коэффициенты регрессии для получения куда более приближенного к реальности результата. Применяется для борьбы с избыточностью данных, когда независимые переменные коррелируют друг с другом, вследствие чего проявляется неустойчивость оценок коэффициентов многомерной линейной регрессии"
   ]
  },
  {
   "cell_type": "code",
   "execution_count": 7,
   "id": "underlying-volume",
   "metadata": {},
   "outputs": [
    {
     "name": "stdout",
     "output_type": "stream",
     "text": [
      "-0.1631934006884549\n"
     ]
    }
   ],
   "source": [
    "# Ridge Regression\n",
    "from pandas import read_csv\n",
    "from sklearn.model_selection import KFold\n",
    "from sklearn.model_selection import cross_val_score\n",
    "from sklearn.linear_model import Ridge\n",
    "filename = 'pima-indians-diabetes.data.csv'\n",
    "names = ['preg', 'plas', 'pres', 'skin', 'test', 'mass', 'pedi', 'age', 'class']\n",
    "dataframe = read_csv(filename, names=names)\n",
    "array = dataframe.values\n",
    "X = array[:,0:8]\n",
    "Y = array[:,8]\n",
    "kfold = KFold(n_splits=10, random_state=7, shuffle=True)\n",
    "model = Ridge()\n",
    "scoring = 'neg_mean_squared_error'\n",
    "results = cross_val_score(model, X, Y, cv=kfold, scoring=scoring)\n",
    "print(results.mean())"
   ]
  },
  {
   "cell_type": "markdown",
   "id": "e8a2310d",
   "metadata": {},
   "source": [
    "Оценка коэффициентов гребневой регрессии равно -0.16"
   ]
  },
  {
   "cell_type": "markdown",
   "id": "macro-hartford",
   "metadata": {},
   "source": [
    "### LASSO Linear Regression"
   ]
  },
  {
   "cell_type": "markdown",
   "id": "6535cfa9",
   "metadata": {},
   "source": [
    "Метод регрессии лассо (англ. LASSO, Least Absolute Shrinkage and Selection Operator) похож на гребневую регрессию, но он использует другое ограничение на коэффициенты.\n",
    "\n",
    "Основное различие лассо- и ридж-регрессии заключается в том, что первая может приводить к обращению некоторых независимых переменных в ноль, тогда как вторая уменьшает их до значений, близких к нулю"
   ]
  },
  {
   "cell_type": "code",
   "execution_count": 10,
   "id": "filled-practitioner",
   "metadata": {},
   "outputs": [
    {
     "name": "stdout",
     "output_type": "stream",
     "text": [
      "-0.18012837070913562\n"
     ]
    }
   ],
   "source": [
    "# Lasso Regression\n",
    "from pandas import read_csv\n",
    "from sklearn.model_selection import KFold\n",
    "from sklearn.model_selection import cross_val_score\n",
    "from sklearn.linear_model import Lasso\n",
    "filename = 'pima-indians-diabetes.data.csv'\n",
    "names = ['preg', 'plas', 'pres', 'skin', 'test', 'mass', 'pedi', 'age', 'class']\n",
    "dataframe = read_csv(filename, names=names)\n",
    "array = dataframe.values\n",
    "X = array[:,0:8]\n",
    "Y = array[:,8]\n",
    "kfold = KFold(n_splits=10, random_state=7, shuffle=True)\n",
    "model = Lasso()\n",
    "scoring = 'neg_mean_squared_error'\n",
    "results = cross_val_score(model, X, Y, cv=kfold, scoring=scoring)\n",
    "print(results.mean())"
   ]
  },
  {
   "cell_type": "markdown",
   "id": "078ff332",
   "metadata": {},
   "source": [
    "Оценка коэффициентов регрессии лассо равна -0.18"
   ]
  },
  {
   "cell_type": "markdown",
   "id": "finite-saturday",
   "metadata": {},
   "source": [
    "### Elastic Net Regression"
   ]
  },
  {
   "cell_type": "markdown",
   "id": "7279bc73",
   "metadata": {},
   "source": [
    "Эластичная сеть — модель регрессии с двумя регуляризаторами, то есть, если обе переменные X и Y умножаются на константы, коэффициенты подгонки не изменяются для данного параметра ."
   ]
  },
  {
   "cell_type": "code",
   "execution_count": 13,
   "id": "entertaining-planner",
   "metadata": {},
   "outputs": [
    {
     "name": "stdout",
     "output_type": "stream",
     "text": [
      "-0.17355666363344985\n"
     ]
    }
   ],
   "source": [
    "# ElasticNet Regression\n",
    "from pandas import read_csv\n",
    "from sklearn.model_selection import KFold\n",
    "from sklearn.model_selection import cross_val_score\n",
    "from sklearn.linear_model import ElasticNet\n",
    "filename = 'pima-indians-diabetes.data.csv'\n",
    "names = ['preg', 'plas', 'pres', 'skin', 'test', 'mass', 'pedi', 'age', 'class']\n",
    "dataframe = read_csv(filename, names=names)\n",
    "array = dataframe.values\n",
    "X = array[:,0:8]\n",
    "Y = array[:,8]\n",
    "kfold = KFold(n_splits=10, random_state=7, shuffle=True)\n",
    "model = ElasticNet()\n",
    "scoring = 'neg_mean_squared_error'\n",
    "results = cross_val_score(model, X, Y, cv=kfold, scoring=scoring)\n",
    "print(results.mean())"
   ]
  },
  {
   "cell_type": "markdown",
   "id": "263e3a90",
   "metadata": {},
   "source": [
    "Оценка коэффициентов регрессии равна -0.17"
   ]
  }
 ],
 "metadata": {
  "kernelspec": {
   "display_name": "Python 3 (ipykernel)",
   "language": "python",
   "name": "python3"
  },
  "language_info": {
   "codemirror_mode": {
    "name": "ipython",
    "version": 3
   },
   "file_extension": ".py",
   "mimetype": "text/x-python",
   "name": "python",
   "nbconvert_exporter": "python",
   "pygments_lexer": "ipython3",
   "version": "3.8.8"
  }
 },
 "nbformat": 4,
 "nbformat_minor": 5
}

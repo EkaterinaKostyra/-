{
 "cells": [
  {
   "cell_type": "markdown",
   "id": "58c20fba",
   "metadata": {},
   "source": [
    "## Костыра Екатерина ПМ_1901"
   ]
  },
  {
   "cell_type": "markdown",
   "id": "spectacular-inside",
   "metadata": {},
   "source": [
    "## Занятие 5. Линейные модели для классификации"
   ]
  },
  {
   "cell_type": "markdown",
   "id": "loved-thread",
   "metadata": {},
   "source": [
    "Веберите любые данные для задачи классификации из репозитория данных для машинного обучения (UCI Machine learning repository: http://archive.ics.uci.edu/ml/index.php) или возьмите свои данные и постройте линейные модели в соответствии со следующей схемой. Комментарии к каждому разделу обязательны."
   ]
  },
  {
   "cell_type": "markdown",
   "id": "50bd31d8",
   "metadata": {},
   "source": [
    "### Информация об атрибутах:\n",
    "\n",
    "1. длина чашелистика в см\n",
    "2. ширина чашелистика в см\n",
    "3. длина лепестка в см\n",
    "4. ширина лепестка в см\n",
    "5. класс:\n",
    "- Iris Setosa\n",
    "- Iris Versicolour\n",
    "- Iris Virginica"
   ]
  },
  {
   "cell_type": "markdown",
   "id": "dda6cf6f",
   "metadata": {},
   "source": [
    "Посмотрим на данные"
   ]
  },
  {
   "cell_type": "code",
   "execution_count": 7,
   "id": "61b89bc1",
   "metadata": {},
   "outputs": [
    {
     "data": {
      "text/html": [
       "<div>\n",
       "<style scoped>\n",
       "    .dataframe tbody tr th:only-of-type {\n",
       "        vertical-align: middle;\n",
       "    }\n",
       "\n",
       "    .dataframe tbody tr th {\n",
       "        vertical-align: top;\n",
       "    }\n",
       "\n",
       "    .dataframe thead th {\n",
       "        text-align: right;\n",
       "    }\n",
       "</style>\n",
       "<table border=\"1\" class=\"dataframe\">\n",
       "  <thead>\n",
       "    <tr style=\"text-align: right;\">\n",
       "      <th></th>\n",
       "      <th>Длина чашелистика</th>\n",
       "      <th>Ширина чашелистика</th>\n",
       "      <th>Длина лепестка</th>\n",
       "      <th>Ширина лепестка</th>\n",
       "      <th>Класс</th>\n",
       "    </tr>\n",
       "  </thead>\n",
       "  <tbody>\n",
       "    <tr>\n",
       "      <th>0</th>\n",
       "      <td>5.1</td>\n",
       "      <td>3.5</td>\n",
       "      <td>1.4</td>\n",
       "      <td>0.2</td>\n",
       "      <td>Iris-setosa</td>\n",
       "    </tr>\n",
       "    <tr>\n",
       "      <th>1</th>\n",
       "      <td>4.9</td>\n",
       "      <td>3.0</td>\n",
       "      <td>1.4</td>\n",
       "      <td>0.2</td>\n",
       "      <td>Iris-setosa</td>\n",
       "    </tr>\n",
       "    <tr>\n",
       "      <th>2</th>\n",
       "      <td>4.7</td>\n",
       "      <td>3.2</td>\n",
       "      <td>1.3</td>\n",
       "      <td>0.2</td>\n",
       "      <td>Iris-setosa</td>\n",
       "    </tr>\n",
       "    <tr>\n",
       "      <th>3</th>\n",
       "      <td>4.6</td>\n",
       "      <td>3.1</td>\n",
       "      <td>1.5</td>\n",
       "      <td>0.2</td>\n",
       "      <td>Iris-setosa</td>\n",
       "    </tr>\n",
       "    <tr>\n",
       "      <th>4</th>\n",
       "      <td>5.0</td>\n",
       "      <td>3.6</td>\n",
       "      <td>1.4</td>\n",
       "      <td>0.2</td>\n",
       "      <td>Iris-setosa</td>\n",
       "    </tr>\n",
       "  </tbody>\n",
       "</table>\n",
       "</div>"
      ],
      "text/plain": [
       "   Длина чашелистика  Ширина чашелистика  Длина лепестка  Ширина лепестка  \\\n",
       "0                5.1                 3.5             1.4              0.2   \n",
       "1                4.9                 3.0             1.4              0.2   \n",
       "2                4.7                 3.2             1.3              0.2   \n",
       "3                4.6                 3.1             1.5              0.2   \n",
       "4                5.0                 3.6             1.4              0.2   \n",
       "\n",
       "         Класс  \n",
       "0  Iris-setosa  \n",
       "1  Iris-setosa  \n",
       "2  Iris-setosa  \n",
       "3  Iris-setosa  \n",
       "4  Iris-setosa  "
      ]
     },
     "execution_count": 7,
     "metadata": {},
     "output_type": "execute_result"
    }
   ],
   "source": [
    "filename = \"bezdekIris (2).data\"\n",
    "names = ['Длина чашелистика','Ширина чашелистика','Длина лепестка','Ширина лепестка','Класс']\n",
    "dataframe = read_csv(filename, names=names)\n",
    "array = dataframe.values\n",
    "dataframe.head()"
   ]
  },
  {
   "cell_type": "markdown",
   "id": "5e3d52ee",
   "metadata": {},
   "source": [
    "Опишем данные"
   ]
  },
  {
   "cell_type": "code",
   "execution_count": 8,
   "id": "e7de0e51",
   "metadata": {},
   "outputs": [
    {
     "data": {
      "text/html": [
       "<div>\n",
       "<style scoped>\n",
       "    .dataframe tbody tr th:only-of-type {\n",
       "        vertical-align: middle;\n",
       "    }\n",
       "\n",
       "    .dataframe tbody tr th {\n",
       "        vertical-align: top;\n",
       "    }\n",
       "\n",
       "    .dataframe thead th {\n",
       "        text-align: right;\n",
       "    }\n",
       "</style>\n",
       "<table border=\"1\" class=\"dataframe\">\n",
       "  <thead>\n",
       "    <tr style=\"text-align: right;\">\n",
       "      <th></th>\n",
       "      <th>Длина чашелистика</th>\n",
       "      <th>Ширина чашелистика</th>\n",
       "      <th>Длина лепестка</th>\n",
       "      <th>Ширина лепестка</th>\n",
       "    </tr>\n",
       "  </thead>\n",
       "  <tbody>\n",
       "    <tr>\n",
       "      <th>count</th>\n",
       "      <td>150.000000</td>\n",
       "      <td>150.000000</td>\n",
       "      <td>150.000000</td>\n",
       "      <td>150.000000</td>\n",
       "    </tr>\n",
       "    <tr>\n",
       "      <th>mean</th>\n",
       "      <td>5.843333</td>\n",
       "      <td>3.057333</td>\n",
       "      <td>3.758000</td>\n",
       "      <td>1.199333</td>\n",
       "    </tr>\n",
       "    <tr>\n",
       "      <th>std</th>\n",
       "      <td>0.828066</td>\n",
       "      <td>0.435866</td>\n",
       "      <td>1.765298</td>\n",
       "      <td>0.762238</td>\n",
       "    </tr>\n",
       "    <tr>\n",
       "      <th>min</th>\n",
       "      <td>4.300000</td>\n",
       "      <td>2.000000</td>\n",
       "      <td>1.000000</td>\n",
       "      <td>0.100000</td>\n",
       "    </tr>\n",
       "    <tr>\n",
       "      <th>25%</th>\n",
       "      <td>5.100000</td>\n",
       "      <td>2.800000</td>\n",
       "      <td>1.600000</td>\n",
       "      <td>0.300000</td>\n",
       "    </tr>\n",
       "    <tr>\n",
       "      <th>50%</th>\n",
       "      <td>5.800000</td>\n",
       "      <td>3.000000</td>\n",
       "      <td>4.350000</td>\n",
       "      <td>1.300000</td>\n",
       "    </tr>\n",
       "    <tr>\n",
       "      <th>75%</th>\n",
       "      <td>6.400000</td>\n",
       "      <td>3.300000</td>\n",
       "      <td>5.100000</td>\n",
       "      <td>1.800000</td>\n",
       "    </tr>\n",
       "    <tr>\n",
       "      <th>max</th>\n",
       "      <td>7.900000</td>\n",
       "      <td>4.400000</td>\n",
       "      <td>6.900000</td>\n",
       "      <td>2.500000</td>\n",
       "    </tr>\n",
       "  </tbody>\n",
       "</table>\n",
       "</div>"
      ],
      "text/plain": [
       "       Длина чашелистика  Ширина чашелистика  Длина лепестка  Ширина лепестка\n",
       "count         150.000000          150.000000      150.000000       150.000000\n",
       "mean            5.843333            3.057333        3.758000         1.199333\n",
       "std             0.828066            0.435866        1.765298         0.762238\n",
       "min             4.300000            2.000000        1.000000         0.100000\n",
       "25%             5.100000            2.800000        1.600000         0.300000\n",
       "50%             5.800000            3.000000        4.350000         1.300000\n",
       "75%             6.400000            3.300000        5.100000         1.800000\n",
       "max             7.900000            4.400000        6.900000         2.500000"
      ]
     },
     "execution_count": 8,
     "metadata": {},
     "output_type": "execute_result"
    }
   ],
   "source": [
    "dataframe.describe()"
   ]
  },
  {
   "cell_type": "markdown",
   "id": "b7b90549",
   "metadata": {},
   "source": [
    "### Logistic Regression"
   ]
  },
  {
   "cell_type": "code",
   "execution_count": 2,
   "id": "f132e530",
   "metadata": {},
   "outputs": [],
   "source": [
    "import os\n",
    "os.chdir(\"C:/Users/79811/anaconda3/\")"
   ]
  },
  {
   "cell_type": "code",
   "execution_count": 5,
   "id": "c2763e41",
   "metadata": {},
   "outputs": [
    {
     "name": "stdout",
     "output_type": "stream",
     "text": [
      "0.9533333333333334\n"
     ]
    }
   ],
   "source": [
    "# Logistic Regression Classification\n",
    "from pandas import read_csv\n",
    "from sklearn.model_selection import KFold\n",
    "from sklearn.model_selection import cross_val_score\n",
    "from sklearn.linear_model import LogisticRegression\n",
    "filename = \"bezdekIris (2).data\"\n",
    "names = ['Длина чашелистика','Ширина чашелистика','Длина лепестка','Ширина лепестка','Класс']\n",
    "dataframe = read_csv(filename, names=names)\n",
    "array = dataframe.values\n",
    "X = array[:,0:4]\n",
    "Y = array[:,4]\n",
    "kfold = KFold(n_splits=10, random_state=7, shuffle=True)\n",
    "model = LogisticRegression(solver='liblinear')\n",
    "results = cross_val_score(model, X, Y, cv=kfold)\n",
    "print(results.mean())"
   ]
  },
  {
   "cell_type": "markdown",
   "id": "ab972e9b",
   "metadata": {},
   "source": [
    "По результатам видим, что точность (доля правильных прогнозов) составляет 95%"
   ]
  },
  {
   "cell_type": "markdown",
   "id": "acoustic-standard",
   "metadata": {},
   "source": [
    "### Linear Discriminant Analysis"
   ]
  },
  {
   "cell_type": "markdown",
   "id": "35aa0e96",
   "metadata": {},
   "source": [
    "Линейный дискриминантный анализ.\n",
    "\n",
    "Алгоритм включает разработку вероятностной модели для каждого класса на основе конкретного распределения наблюдений для каждой входной переменной. Затем новый пример классифицируется путем вычисления условной вероятности его принадлежности к каждому классу и выбора класса с наибольшей вероятностью.\n",
    "\n",
    "Как таковая, это относительно простая модель вероятностной классификации, которая делает сильные предположения о распределении каждой входной переменной.\n"
   ]
  },
  {
   "cell_type": "code",
   "execution_count": 4,
   "id": "facial-shuttle",
   "metadata": {},
   "outputs": [
    {
     "name": "stdout",
     "output_type": "stream",
     "text": [
      "0.9800000000000001\n"
     ]
    }
   ],
   "source": [
    "# LDA Classification\n",
    "from pandas import read_csv\n",
    "from sklearn.model_selection import KFold\n",
    "from sklearn.model_selection import cross_val_score\n",
    "from sklearn.discriminant_analysis import LinearDiscriminantAnalysis\n",
    "filename = \"bezdekIris (2).data\"\n",
    "names = ['Длина чашелистика','Ширина чашелистика','Длина лепестка','Ширина лепестка','Класс']\n",
    "dataframe = read_csv(filename, names=names)\n",
    "array = dataframe.values\n",
    "X = array[:,0:4]\n",
    "Y = array[:,4]\n",
    "kfold = KFold(n_splits=10, random_state=7, shuffle=True)\n",
    "model = LinearDiscriminantAnalysis()\n",
    "results = cross_val_score(model, X, Y, cv=kfold)\n",
    "print(results.mean())"
   ]
  },
  {
   "cell_type": "markdown",
   "id": "1efe119f",
   "metadata": {},
   "source": [
    "По результатам видим, что точность модели составляется 98%"
   ]
  },
  {
   "cell_type": "markdown",
   "id": "sunrise-boston",
   "metadata": {},
   "source": [
    "### Support Vector Machines"
   ]
  },
  {
   "cell_type": "markdown",
   "id": "36b20c3b",
   "metadata": {},
   "source": [
    "Машины опорных векторов (SVM) - это набор контролируемых методов обучения, используемых для классификации , регрессии и обнаружения выбросов. SVM предлагает очень высокую точность по сравнению с другими классификаторами, такими как логистическая регрессия и деревья решений. \n",
    "\n",
    "Основная идея SVM - найти максимальную маргинальную гиперплоскость (MMH), которая наилучшим образом разделяет набор данных на классы. Гиперплоскость - это плоскость принятия решений, которая разделяет набор объектов, имеющих различную принадлежность к классам"
   ]
  },
  {
   "cell_type": "code",
   "execution_count": 11,
   "id": "fatal-activity",
   "metadata": {},
   "outputs": [
    {
     "name": "stdout",
     "output_type": "stream",
     "text": [
      "0.9600000000000002\n"
     ]
    }
   ],
   "source": [
    "# SVM Classification\n",
    "from pandas import read_csv\n",
    "from sklearn.model_selection import KFold\n",
    "from sklearn.model_selection import cross_val_score\n",
    "from sklearn.svm import SVC\n",
    "filename = \"bezdekIris (2).data\"\n",
    "names = ['Длина чашелистика','Ширина чашелистика','Длина лепестка','Ширина лепестка','Класс']\n",
    "dataframe = read_csv(filename, names=names)\n",
    "array = dataframe.values\n",
    "X = array[:,0:4]\n",
    "Y = array[:,4]\n",
    "kfold = KFold(n_splits=10, random_state=7, shuffle=True)\n",
    "model = SVC()\n",
    "results = cross_val_score(model, X, Y, cv=kfold)\n",
    "print(results.mean())"
   ]
  },
  {
   "cell_type": "markdown",
   "id": "8c9c9beb",
   "metadata": {},
   "source": [
    "Точность равна 96%, что говорит о том, что этот метод и вправду работает лучше, чем Logistic Regression"
   ]
  }
 ],
 "metadata": {
  "kernelspec": {
   "display_name": "Python 3 (ipykernel)",
   "language": "python",
   "name": "python3"
  },
  "language_info": {
   "codemirror_mode": {
    "name": "ipython",
    "version": 3
   },
   "file_extension": ".py",
   "mimetype": "text/x-python",
   "name": "python",
   "nbconvert_exporter": "python",
   "pygments_lexer": "ipython3",
   "version": "3.8.8"
  }
 },
 "nbformat": 4,
 "nbformat_minor": 5
}

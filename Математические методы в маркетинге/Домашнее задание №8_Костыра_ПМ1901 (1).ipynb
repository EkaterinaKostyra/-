{
 "cells": [
  {
   "cell_type": "markdown",
   "id": "62336358",
   "metadata": {},
   "source": [
    "## Костыра Екатерина ПМ_1901"
   ]
  },
  {
   "cell_type": "markdown",
   "id": "radio-vitamin",
   "metadata": {},
   "source": [
    "## Занятие 6. Нелинейные модели для классификации"
   ]
  },
  {
   "cell_type": "markdown",
   "id": "iraqi-voluntary",
   "metadata": {},
   "source": [
    "Веберите любые данные для задачи классификации из репозитория данных для машинного обучения (UCI Machine learning repository: http://archive.ics.uci.edu/ml/index.php) или возьмите свои данные и постройте нелинейные модели в соответствии со следующей схемой. Комментарии к каждому разделу обязательны."
   ]
  },
  {
   "cell_type": "markdown",
   "id": "9b833b62",
   "metadata": {},
   "source": [
    "### Информация об атрибутах:\n",
    "\n",
    "1. длина чашелистика в см\n",
    "2. ширина чашелистика в см\n",
    "3. длина лепестка в см\n",
    "4. ширина лепестка в см\n",
    "5. класс:\n",
    "- Iris Setosa\n",
    "- Iris Versicolour\n",
    "- Iris Virginica"
   ]
  },
  {
   "cell_type": "markdown",
   "id": "f0969cbe",
   "metadata": {},
   "source": [
    "Посмотрим на данные"
   ]
  },
  {
   "cell_type": "code",
   "execution_count": 4,
   "id": "81d8bdc4",
   "metadata": {},
   "outputs": [
    {
     "data": {
      "text/html": [
       "<div>\n",
       "<style scoped>\n",
       "    .dataframe tbody tr th:only-of-type {\n",
       "        vertical-align: middle;\n",
       "    }\n",
       "\n",
       "    .dataframe tbody tr th {\n",
       "        vertical-align: top;\n",
       "    }\n",
       "\n",
       "    .dataframe thead th {\n",
       "        text-align: right;\n",
       "    }\n",
       "</style>\n",
       "<table border=\"1\" class=\"dataframe\">\n",
       "  <thead>\n",
       "    <tr style=\"text-align: right;\">\n",
       "      <th></th>\n",
       "      <th>Длина чашелистика</th>\n",
       "      <th>Ширина чашелистика</th>\n",
       "      <th>Длина лепестка</th>\n",
       "      <th>Ширина лепестка</th>\n",
       "      <th>Класс</th>\n",
       "    </tr>\n",
       "  </thead>\n",
       "  <tbody>\n",
       "    <tr>\n",
       "      <th>0</th>\n",
       "      <td>5.1</td>\n",
       "      <td>3.5</td>\n",
       "      <td>1.4</td>\n",
       "      <td>0.2</td>\n",
       "      <td>Iris-setosa</td>\n",
       "    </tr>\n",
       "    <tr>\n",
       "      <th>1</th>\n",
       "      <td>4.9</td>\n",
       "      <td>3.0</td>\n",
       "      <td>1.4</td>\n",
       "      <td>0.2</td>\n",
       "      <td>Iris-setosa</td>\n",
       "    </tr>\n",
       "    <tr>\n",
       "      <th>2</th>\n",
       "      <td>4.7</td>\n",
       "      <td>3.2</td>\n",
       "      <td>1.3</td>\n",
       "      <td>0.2</td>\n",
       "      <td>Iris-setosa</td>\n",
       "    </tr>\n",
       "    <tr>\n",
       "      <th>3</th>\n",
       "      <td>4.6</td>\n",
       "      <td>3.1</td>\n",
       "      <td>1.5</td>\n",
       "      <td>0.2</td>\n",
       "      <td>Iris-setosa</td>\n",
       "    </tr>\n",
       "    <tr>\n",
       "      <th>4</th>\n",
       "      <td>5.0</td>\n",
       "      <td>3.6</td>\n",
       "      <td>1.4</td>\n",
       "      <td>0.2</td>\n",
       "      <td>Iris-setosa</td>\n",
       "    </tr>\n",
       "  </tbody>\n",
       "</table>\n",
       "</div>"
      ],
      "text/plain": [
       "   Длина чашелистика  Ширина чашелистика  Длина лепестка  Ширина лепестка  \\\n",
       "0                5.1                 3.5             1.4              0.2   \n",
       "1                4.9                 3.0             1.4              0.2   \n",
       "2                4.7                 3.2             1.3              0.2   \n",
       "3                4.6                 3.1             1.5              0.2   \n",
       "4                5.0                 3.6             1.4              0.2   \n",
       "\n",
       "         Класс  \n",
       "0  Iris-setosa  \n",
       "1  Iris-setosa  \n",
       "2  Iris-setosa  \n",
       "3  Iris-setosa  \n",
       "4  Iris-setosa  "
      ]
     },
     "execution_count": 4,
     "metadata": {},
     "output_type": "execute_result"
    }
   ],
   "source": [
    "filename = \"bezdekIris (2).data\"\n",
    "names = ['Длина чашелистика','Ширина чашелистика','Длина лепестка','Ширина лепестка','Класс']\n",
    "dataframe = read_csv(filename, names=names)\n",
    "array = dataframe.values\n",
    "dataframe.head()"
   ]
  },
  {
   "cell_type": "markdown",
   "id": "4d1cfe7a",
   "metadata": {},
   "source": [
    "Опишем данные"
   ]
  },
  {
   "cell_type": "code",
   "execution_count": 6,
   "id": "d8995bdf",
   "metadata": {},
   "outputs": [
    {
     "data": {
      "text/html": [
       "<div>\n",
       "<style scoped>\n",
       "    .dataframe tbody tr th:only-of-type {\n",
       "        vertical-align: middle;\n",
       "    }\n",
       "\n",
       "    .dataframe tbody tr th {\n",
       "        vertical-align: top;\n",
       "    }\n",
       "\n",
       "    .dataframe thead th {\n",
       "        text-align: right;\n",
       "    }\n",
       "</style>\n",
       "<table border=\"1\" class=\"dataframe\">\n",
       "  <thead>\n",
       "    <tr style=\"text-align: right;\">\n",
       "      <th></th>\n",
       "      <th>Длина чашелистика</th>\n",
       "      <th>Ширина чашелистика</th>\n",
       "      <th>Длина лепестка</th>\n",
       "      <th>Ширина лепестка</th>\n",
       "    </tr>\n",
       "  </thead>\n",
       "  <tbody>\n",
       "    <tr>\n",
       "      <th>count</th>\n",
       "      <td>150.000000</td>\n",
       "      <td>150.000000</td>\n",
       "      <td>150.000000</td>\n",
       "      <td>150.000000</td>\n",
       "    </tr>\n",
       "    <tr>\n",
       "      <th>mean</th>\n",
       "      <td>5.843333</td>\n",
       "      <td>3.057333</td>\n",
       "      <td>3.758000</td>\n",
       "      <td>1.199333</td>\n",
       "    </tr>\n",
       "    <tr>\n",
       "      <th>std</th>\n",
       "      <td>0.828066</td>\n",
       "      <td>0.435866</td>\n",
       "      <td>1.765298</td>\n",
       "      <td>0.762238</td>\n",
       "    </tr>\n",
       "    <tr>\n",
       "      <th>min</th>\n",
       "      <td>4.300000</td>\n",
       "      <td>2.000000</td>\n",
       "      <td>1.000000</td>\n",
       "      <td>0.100000</td>\n",
       "    </tr>\n",
       "    <tr>\n",
       "      <th>25%</th>\n",
       "      <td>5.100000</td>\n",
       "      <td>2.800000</td>\n",
       "      <td>1.600000</td>\n",
       "      <td>0.300000</td>\n",
       "    </tr>\n",
       "    <tr>\n",
       "      <th>50%</th>\n",
       "      <td>5.800000</td>\n",
       "      <td>3.000000</td>\n",
       "      <td>4.350000</td>\n",
       "      <td>1.300000</td>\n",
       "    </tr>\n",
       "    <tr>\n",
       "      <th>75%</th>\n",
       "      <td>6.400000</td>\n",
       "      <td>3.300000</td>\n",
       "      <td>5.100000</td>\n",
       "      <td>1.800000</td>\n",
       "    </tr>\n",
       "    <tr>\n",
       "      <th>max</th>\n",
       "      <td>7.900000</td>\n",
       "      <td>4.400000</td>\n",
       "      <td>6.900000</td>\n",
       "      <td>2.500000</td>\n",
       "    </tr>\n",
       "  </tbody>\n",
       "</table>\n",
       "</div>"
      ],
      "text/plain": [
       "       Длина чашелистика  Ширина чашелистика  Длина лепестка  Ширина лепестка\n",
       "count         150.000000          150.000000      150.000000       150.000000\n",
       "mean            5.843333            3.057333        3.758000         1.199333\n",
       "std             0.828066            0.435866        1.765298         0.762238\n",
       "min             4.300000            2.000000        1.000000         0.100000\n",
       "25%             5.100000            2.800000        1.600000         0.300000\n",
       "50%             5.800000            3.000000        4.350000         1.300000\n",
       "75%             6.400000            3.300000        5.100000         1.800000\n",
       "max             7.900000            4.400000        6.900000         2.500000"
      ]
     },
     "execution_count": 6,
     "metadata": {},
     "output_type": "execute_result"
    }
   ],
   "source": [
    "dataframe.describe()"
   ]
  },
  {
   "cell_type": "markdown",
   "id": "broken-thermal",
   "metadata": {},
   "source": [
    "### k-Nearest Neighbors"
   ]
  },
  {
   "cell_type": "markdown",
   "id": "dbd7e108",
   "metadata": {},
   "source": [
    "Aлгоритм k-ближайшего соседа\n",
    "\n",
    "Классификация на основе соседей - это тип обучения на основе экземпляров или необобщающего обучения : он не пытается построить общую внутреннюю модель, а просто сохраняет экземпляры обучающих данных. Классификация вычисляется простым большинством голосов ближайших соседей каждой точки: точке запроса назначается класс данных, который имеет наибольшее количество представителей среди ближайших соседей точки.\n",
    "\n",
    "KNeighborsClassifier реализует обучение на основе ближайшие соседи каждой точки запроса, где k - целочисленное значение, указанное пользователем"
   ]
  },
  {
   "cell_type": "code",
   "execution_count": 2,
   "id": "enormous-maintenance",
   "metadata": {},
   "outputs": [],
   "source": [
    "import os\n",
    "os.chdir(\"C:/Users/79811/anaconda3/\")"
   ]
  },
  {
   "cell_type": "code",
   "execution_count": 5,
   "id": "59c587db",
   "metadata": {},
   "outputs": [
    {
     "name": "stdout",
     "output_type": "stream",
     "text": [
      "0.9533333333333334\n"
     ]
    }
   ],
   "source": [
    "# KNN Classification\n",
    "from pandas import read_csv\n",
    "from sklearn.model_selection import KFold\n",
    "from sklearn.model_selection import cross_val_score\n",
    "from sklearn.neighbors import KNeighborsClassifier\n",
    "filename = \"bezdekIris (2).data\"\n",
    "names = ['Длина чашелистика','Ширина чашелистика','Длина лепестка','Ширина лепестка','Класс']\n",
    "dataframe = read_csv(filename, names=names)\n",
    "array = dataframe.values\n",
    "X = array[:,0:4]\n",
    "Y = array[:,4]\n",
    "kfold = KFold(n_splits=10, random_state=7, shuffle=True)\n",
    "model = KNeighborsClassifier()\n",
    "results = cross_val_score(model, X, Y, cv=kfold)\n",
    "print(results.mean())"
   ]
  },
  {
   "cell_type": "markdown",
   "id": "6608b925",
   "metadata": {},
   "source": [
    "Точность модели равна 95%, следовательно, что говорит нам о том, что наша модель работает достаточно хорошо"
   ]
  },
  {
   "cell_type": "markdown",
   "id": "fifteen-perception",
   "metadata": {},
   "source": [
    "### Naive Bayes"
   ]
  },
  {
   "cell_type": "markdown",
   "id": "f91d258f",
   "metadata": {},
   "source": [
    "Наивные методы Байеса - это набор алгоритмов контролируемого обучения, основанных на применении теоремы Байеса с «наивным» предположением об условной независимости между каждой парой характеристик при заданном значении переменной класса\n"
   ]
  },
  {
   "cell_type": "code",
   "execution_count": 7,
   "id": "coated-setting",
   "metadata": {},
   "outputs": [
    {
     "name": "stdout",
     "output_type": "stream",
     "text": [
      "0.9533333333333334\n"
     ]
    }
   ],
   "source": [
    "# Gaussian Naive Bayes Classification\n",
    "from pandas import read_csv\n",
    "from sklearn.model_selection import KFold\n",
    "from sklearn.model_selection import cross_val_score\n",
    "from sklearn.naive_bayes import GaussianNB\n",
    "filename = \"bezdekIris (2).data\"\n",
    "names = ['Длина чашелистика','Ширина чашелистика','Длина лепестка','Ширина лепестка','Класс']\n",
    "dataframe = read_csv(filename, names=names)\n",
    "array = dataframe.values\n",
    "X = array[:,0:4]\n",
    "Y = array[:,4]\n",
    "kfold = KFold(n_splits=10, random_state=7, shuffle=True)\n",
    "model = GaussianNB()\n",
    "results = cross_val_score(model, X, Y, cv=kfold)\n",
    "print(results.mean())"
   ]
  },
  {
   "cell_type": "markdown",
   "id": "4a07f57b",
   "metadata": {},
   "source": [
    "По результатам видим, что средняя точность наивного классификатора Байеса равна 95%"
   ]
  },
  {
   "cell_type": "markdown",
   "id": "opposed-glance",
   "metadata": {},
   "source": [
    "### Classification and Regression Trees"
   ]
  },
  {
   "cell_type": "markdown",
   "id": "9d39191b",
   "metadata": {},
   "source": [
    "Деревья принятия решений\n",
    "\n",
    "Дерево решений - это метод без распределения или непараметрический метод, который не зависит от предположений о распределении вероятностей. Деревья решений могут обрабатывать многомерные данные с хорошей точностью"
   ]
  },
  {
   "cell_type": "code",
   "execution_count": 9,
   "id": "expressed-occasion",
   "metadata": {},
   "outputs": [
    {
     "name": "stdout",
     "output_type": "stream",
     "text": [
      "0.9466666666666667\n"
     ]
    }
   ],
   "source": [
    "# CART Classification\n",
    "from pandas import read_csv\n",
    "from sklearn.model_selection import KFold\n",
    "from sklearn.model_selection import cross_val_score\n",
    "from sklearn.tree import DecisionTreeClassifier\n",
    "filename = \"bezdekIris (2).data\"\n",
    "names = ['Длина чашелистика','Ширина чашелистика','Длина лепестка','Ширина лепестка','Класс']\n",
    "dataframe = read_csv(filename, names=names)\n",
    "array = dataframe.values\n",
    "X = array[:,0:4]\n",
    "Y = array[:,4]\n",
    "kfold = KFold(n_splits=10, random_state=7, shuffle=True)\n",
    "model = DecisionTreeClassifier()\n",
    "results = cross_val_score(model, X, Y, cv=kfold)\n",
    "print(results.mean())"
   ]
  },
  {
   "cell_type": "markdown",
   "id": "51ba7f24",
   "metadata": {},
   "source": [
    "По результатам видим, что средняя точность метода дерева решений равна 95%"
   ]
  },
  {
   "cell_type": "markdown",
   "id": "da26b08c",
   "metadata": {},
   "source": [
    "### Выбор лучшего алгоритма машинного обучения для задачи классификации"
   ]
  },
  {
   "cell_type": "code",
   "execution_count": 10,
   "id": "359b6b67",
   "metadata": {},
   "outputs": [
    {
     "name": "stdout",
     "output_type": "stream",
     "text": [
      "LR: 0.953333 (0.084591)\n",
      "LDA: 0.980000 (0.030551)\n",
      "KNN: 0.953333 (0.052068)\n",
      "CART: 0.946667 (0.049889)\n",
      "NB: 0.953333 (0.066999)\n",
      "SVM: 0.960000 (0.053333)\n"
     ]
    },
    {
     "data": {
      "image/png": "[encoded data removed]",
      "text/plain": [
       "<Figure size 432x288 with 1 Axes>"
      ]
     },
     "metadata": {
      "needs_background": "light"
     },
     "output_type": "display_data"
    }
   ],
   "source": [
    "# Compare Algorithms\n",
    "from pandas import read_csv\n",
    "from matplotlib import pyplot\n",
    "from sklearn.model_selection import KFold\n",
    "from sklearn.model_selection import cross_val_score\n",
    "from sklearn.linear_model import LogisticRegression\n",
    "from sklearn.tree import DecisionTreeClassifier\n",
    "from sklearn.neighbors import KNeighborsClassifier\n",
    "from sklearn.discriminant_analysis import LinearDiscriminantAnalysis\n",
    "from sklearn.naive_bayes import GaussianNB\n",
    "from sklearn.svm import SVC\n",
    "# load dataset\n",
    "filename = \"bezdekIris (2).data\"\n",
    "names = ['Длина чашелистика','Ширина чашелистика','Длина лепестка','Ширина лепестка','Класс']\n",
    "dataframe = read_csv(filename, names=names)\n",
    "array = dataframe.values\n",
    "X = array[:,0:4]\n",
    "Y = array[:,4]\n",
    "# prepare models\n",
    "models = []\n",
    "models.append(('LR', LogisticRegression(solver='liblinear')))\n",
    "models.append(('LDA', LinearDiscriminantAnalysis()))\n",
    "models.append(('KNN', KNeighborsClassifier()))\n",
    "models.append(('CART', DecisionTreeClassifier()))\n",
    "models.append(('NB', GaussianNB()))\n",
    "models.append(('SVM', SVC()))\n",
    "# evaluate each model in turn\n",
    "results = []\n",
    "names = []\n",
    "scoring = 'accuracy'\n",
    "for name, model in models:\n",
    "    kfold = KFold(n_splits=10, random_state=7, shuffle=True)\n",
    "    cv_results = cross_val_score(model, X, Y, cv=kfold, scoring=scoring)\n",
    "    results.append(cv_results)\n",
    "    names.append(name)\n",
    "    msg = \"%s: %f (%f)\" % (name, cv_results.mean(), cv_results.std())\n",
    "    print(msg)\n",
    "# boxplot algorithm comparison\n",
    "fig = pyplot.figure()\n",
    "fig.suptitle('Algorithm Comparison')\n",
    "ax = fig.add_subplot(111)\n",
    "pyplot.boxplot(results)\n",
    "ax.set_xticklabels(names)\n",
    "pyplot.show()"
   ]
  },
  {
   "cell_type": "markdown",
   "id": "cb31069f",
   "metadata": {},
   "source": [
    "По результатам видим:\n",
    "\n",
    "Средняя оценка точности LR равна 95%, а стандартное отклонение 8%\n",
    "\n",
    "\n",
    "Средняя оценка точности  LDA равна 98%, а стандартное отклонение 3%\n",
    "\n",
    "\n",
    "Средняя оценка точности  KNN равна 95%, а стандартное отклонение 5%\n",
    "\n",
    "\n",
    "Средняя оценка точности  CART равна 95%, а стандартное отклонение 5%\n",
    "\n",
    "\n",
    "Средняя оценка точности  NB равна 95%, а стандартное отклонение 7%\n",
    "\n",
    "\n",
    "Средняя оценка точности  SVM равна 96%, а стандартное отклонение 5%\n",
    "\n",
    "Поэтому можем сказать, что с точностью в 98% лучше всего работает алгоритм LDA, а хуже всего метод LR и NB"
   ]
  },
  {
   "cell_type": "markdown",
   "id": "6c49176b",
   "metadata": {},
   "source": [
    "## Создание пайплайна (программного конвеера)"
   ]
  },
  {
   "cell_type": "markdown",
   "id": "63c52753",
   "metadata": {},
   "source": [
    "### Программный конвеер подготовки данных и моделирования"
   ]
  },
  {
   "cell_type": "markdown",
   "id": "05538fd3",
   "metadata": {},
   "source": [
    "Конвейер обработки данных состоит из связанных между собой узлов, т.е. функций. Узел характеризуется набором входных и выходных каналов, по которым могут передаваться объекты. Узел ожидает появления определенного набора объектов на своем входном канале, после чего проводит вычисления и порождает объект(ы) на своем выходном канале, которые передаются в следующий узел в конвейере"
   ]
  },
  {
   "cell_type": "code",
   "execution_count": 12,
   "id": "fa7adbc4",
   "metadata": {},
   "outputs": [
    {
     "name": "stdout",
     "output_type": "stream",
     "text": [
      "0.9800000000000001\n"
     ]
    }
   ],
   "source": [
    "# Create a pipeline that standardizes the data then creates a model\n",
    "from pandas import read_csv\n",
    "from sklearn.model_selection import KFold\n",
    "from sklearn.model_selection import cross_val_score\n",
    "from sklearn.preprocessing import StandardScaler\n",
    "from sklearn.pipeline import Pipeline\n",
    "from sklearn.discriminant_analysis import LinearDiscriminantAnalysis\n",
    "# load data\n",
    "filename = \"bezdekIris (2).data\"\n",
    "names = ['Длина чашелистика','Ширина чашелистика','Длина лепестка','Ширина лепестка','Класс']\n",
    "dataframe = read_csv(filename, names=names)\n",
    "array = dataframe.values\n",
    "X = array[:,0:4]\n",
    "Y = array[:,4]\n",
    "# create pipeline\n",
    "estimators = []\n",
    "estimators.append(('standardize', StandardScaler()))\n",
    "estimators.append(('lda', LinearDiscriminantAnalysis()))\n",
    "model = Pipeline(estimators)\n",
    "# evaluate pipeline\n",
    "kfold = KFold(n_splits=10, random_state=7, shuffle=True)\n",
    "results = cross_val_score(model, X, Y, cv=kfold)\n",
    "print(results.mean())"
   ]
  },
  {
   "cell_type": "markdown",
   "id": "ee837710",
   "metadata": {},
   "source": [
    "По результатам можем наблюдать, что процентная точность равна 98, следовательно, программный конвеер работает хорошо"
   ]
  }
 ],
 "metadata": {
  "kernelspec": {
   "display_name": "Python 3 (ipykernel)",
   "language": "python",
   "name": "python3"
  },
  "language_info": {
   "codemirror_mode": {
    "name": "ipython",
    "version": 3
   },
   "file_extension": ".py",
   "mimetype": "text/x-python",
   "name": "python",
   "nbconvert_exporter": "python",
   "pygments_lexer": "ipython3",
   "version": "3.8.8"
  }
 },
 "nbformat": 4,
 "nbformat_minor": 5
}

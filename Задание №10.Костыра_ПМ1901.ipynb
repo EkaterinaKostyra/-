{
 "cells": [
  {
   "cell_type": "markdown",
   "id": "b62e9735",
   "metadata": {},
   "source": [
    "## Костыра Екатерина ПМ_1901"
   ]
  },
  {
   "cell_type": "markdown",
   "id": "underlying-learning",
   "metadata": {},
   "source": [
    "## Занятие 8. Нелинейные модели для регрессии. Выбор лучшей модели для регрессии. Построение программного конвеера"
   ]
  },
  {
   "cell_type": "markdown",
   "id": "missing-julian",
   "metadata": {},
   "source": [
    "Веберите любые данные для задачи регрессии из репозитория данных для машинного обучения (UCI Machine learning repository: http://archive.ics.uci.edu/ml/index.php) или возьмите свои данные и постройте нелинейные модели в соответствии со следующей схемой. Комментарии к каждому разделу обязательны."
   ]
  },
  {
   "cell_type": "markdown",
   "id": "a949c916",
   "metadata": {},
   "source": [
    "Нелинейная регрессия (nonlinear regression) – регрессионная модель зависимости результативной переменной от одной или нескольких объясняющих переменных, выражаемая в виде нелинейной функции.\n",
    "\n",
    "\n",
    "Все нелинейные модели регрессии могут быть разделены, как и линейные модели, на парные и множественные. По целям и решаемым задачам нелинейная регрессия аналогичная классической линейной регрессии. Отличие только в форме связи и методах оценки параметров.\n"
   ]
  },
  {
   "cell_type": "markdown",
   "id": "ebeb8f00",
   "metadata": {},
   "source": [
    "Цель набора данных - диагностически предсказать, есть ли у пациента диабет, на основе определенных диагностических измерений, включенных в набор данных.\n",
    "\n",
    "Наборы данных состоят из нескольких медицинских предикторов (независимых) и одной целевой (зависимой) переменной, результата . Независимые переменные включают количество беременностей у пациентки, их ИМТ, уровень инсулина, возраст и т. Д."
   ]
  },
  {
   "cell_type": "markdown",
   "id": "ed77eec5",
   "metadata": {},
   "source": [
    "#### Информация об атрибутах:\n",
    "1. preg - Количество беременных\n",
    "2. plas - Глюкоза\n",
    "3. pres - Кровяное давление (мм рт. Ст.)\n",
    "4. skin - Толщина кожи (мм)\n",
    "5. test - Инсулин\n",
    "6. mass - Индекс массы тела (вес в кг / (рост в м) ^ 2)\n",
    "7. pedi - Сахарный диабет\n",
    "8. age - Возраст (лет)\n",
    "9. class - Исход (Переменная класса (0, если не диабет, 1, если диабет) 268 из 768 равны 1, остальные равны 0)"
   ]
  },
  {
   "cell_type": "code",
   "execution_count": 1,
   "id": "dfee39e8",
   "metadata": {},
   "outputs": [],
   "source": [
    "import os\n",
    "os.chdir(\"C:/Users/79811/anaconda3/\")"
   ]
  },
  {
   "cell_type": "markdown",
   "id": "reduced-cleanup",
   "metadata": {},
   "source": [
    "### k-Nearest Neighbors"
   ]
  },
  {
   "cell_type": "markdown",
   "id": "bf83ac89",
   "metadata": {},
   "source": [
    "Aлгоритм k-ближайшего соседа\n",
    "\n",
    "Классификация на основе соседей - это тип обучения на основе экземпляров или необобщающего обучения : он не пытается построить общую внутреннюю модель, а просто сохраняет экземпляры обучающих данных. Классификация вычисляется простым большинством голосов ближайших соседей каждой точки: точке запроса назначается класс данных, который имеет наибольшее количество представителей среди ближайших соседей точки.\n",
    "\n",
    "KNeighborsClassifier реализует обучение на основе ближайшие соседи каждой точки запроса, где k - целочисленное значение, указанное пользователем"
   ]
  },
  {
   "cell_type": "code",
   "execution_count": 3,
   "id": "lyric-aging",
   "metadata": {},
   "outputs": [
    {
     "name": "stdout",
     "output_type": "stream",
     "text": [
      "-0.20382433356117566\n"
     ]
    }
   ],
   "source": [
    "# KNN Regression\n",
    "from pandas import read_csv\n",
    "from sklearn.model_selection import KFold\n",
    "from sklearn.model_selection import cross_val_score\n",
    "from sklearn.neighbors import KNeighborsRegressor\n",
    "filename = 'pima-indians-diabetes.data.csv'\n",
    "names = ['preg', 'plas', 'pres', 'skin', 'test', 'mass', 'pedi', 'age', 'class']\n",
    "dataframe = read_csv(filename, names=names)\n",
    "array = dataframe.values\n",
    "X = array[:,0:8]\n",
    "Y = array[:,8]\n",
    "kfold = KFold(n_splits=10, random_state=7, shuffle=True)\n",
    "model = KNeighborsRegressor()\n",
    "scoring = 'neg_mean_squared_error'\n",
    "results = cross_val_score(model, X, Y, cv=kfold, scoring=scoring)\n",
    "print(results.mean())"
   ]
  },
  {
   "cell_type": "markdown",
   "id": "d199761b",
   "metadata": {},
   "source": [
    "Оценка коэффициентов регрессии метода k-ближайших соседей равен -0.2"
   ]
  },
  {
   "cell_type": "markdown",
   "id": "biblical-sierra",
   "metadata": {},
   "source": [
    "### Classification and Regression Trees"
   ]
  },
  {
   "cell_type": "markdown",
   "id": "f8bf031c",
   "metadata": {},
   "source": [
    "Деревья принятия решений\n",
    "\n",
    "Дерево решений - это метод без распределения или непараметрический метод, который не зависит от предположений о распределении вероятностей. Деревья решений могут обрабатывать многомерные данные с хорошей точностью"
   ]
  },
  {
   "cell_type": "code",
   "execution_count": 5,
   "id": "breeding-horse",
   "metadata": {},
   "outputs": [
    {
     "name": "stdout",
     "output_type": "stream",
     "text": [
      "-0.3123547505126453\n"
     ]
    }
   ],
   "source": [
    "# Decision Tree Regression\n",
    "from pandas import read_csv\n",
    "from sklearn.model_selection import KFold\n",
    "from sklearn.model_selection import cross_val_score\n",
    "from sklearn.tree import DecisionTreeRegressor\n",
    "filename = 'pima-indians-diabetes.data.csv'\n",
    "names = ['preg', 'plas', 'pres', 'skin', 'test', 'mass', 'pedi', 'age', 'class']\n",
    "dataframe = read_csv(filename, names=names)\n",
    "array = dataframe.values\n",
    "X = array[:,0:8]\n",
    "Y = array[:,8]\n",
    "kfold = KFold(n_splits=10, random_state=7, shuffle=True)\n",
    "model = DecisionTreeRegressor()\n",
    "scoring = 'neg_mean_squared_error'\n",
    "results = cross_val_score(model, X, Y, cv=kfold, scoring=scoring)\n",
    "print(results.mean())"
   ]
  },
  {
   "cell_type": "markdown",
   "id": "af30e68e",
   "metadata": {},
   "source": [
    "Оценка коэффициентов регрессии метода дерева решений равен -0.3"
   ]
  },
  {
   "cell_type": "markdown",
   "id": "powered-adams",
   "metadata": {},
   "source": [
    "### Support Vector Machines"
   ]
  },
  {
   "cell_type": "markdown",
   "id": "136fbcd6",
   "metadata": {},
   "source": [
    "Машины опорных векторов (SVM) - это набор контролируемых методов обучения, используемых для классификации , регрессии и обнаружения выбросов. SVM предлагает очень высокую точность по сравнению с другими классификаторами, такими как логистическая регрессия и деревья решений. \n",
    "\n",
    "Основная идея SVM - найти максимальную маргинальную гиперплоскость (MMH), которая наилучшим образом разделяет набор данных на классы. Гиперплоскость - это плоскость принятия решений, которая разделяет набор объектов, имеющих различную принадлежность к классам"
   ]
  },
  {
   "cell_type": "code",
   "execution_count": 6,
   "id": "loving-electron",
   "metadata": {},
   "outputs": [
    {
     "name": "stdout",
     "output_type": "stream",
     "text": [
      "-0.2277502788938061\n"
     ]
    }
   ],
   "source": [
    "# SVM Regression\n",
    "from pandas import read_csv\n",
    "from sklearn.model_selection import KFold\n",
    "from sklearn.model_selection import cross_val_score\n",
    "from sklearn.svm import SVR\n",
    "filename = 'pima-indians-diabetes.data.csv'\n",
    "names = ['preg', 'plas', 'pres', 'skin', 'test', 'mass', 'pedi', 'age', 'class']\n",
    "dataframe = read_csv(filename, names=names)\n",
    "array = dataframe.values\n",
    "X = array[:,0:8]\n",
    "Y = array[:,8]\n",
    "kfold = KFold(n_splits=10, random_state=7, shuffle=True)\n",
    "model = SVR(gamma='auto')\n",
    "scoring = 'neg_mean_squared_error'\n",
    "results = cross_val_score(model, X, Y, cv=kfold, scoring=scoring)\n",
    "print(results.mean())"
   ]
  },
  {
   "cell_type": "markdown",
   "id": "b51e96e3",
   "metadata": {},
   "source": [
    "Оценка коэффициентов регрессии метода опорных векторов равен -0.2"
   ]
  },
  {
   "cell_type": "markdown",
   "id": "second-currency",
   "metadata": {},
   "source": [
    "По построенным ранее моделям выберите лучший алгоритм машинного обучения для задачи регрессии. Создайте пайплайн (программный конвеер) в соответствии с указанной ниже схемой. Комментарии к каждому разделу обязательны."
   ]
  },
  {
   "cell_type": "markdown",
   "id": "thousand-friendly",
   "metadata": {},
   "source": [
    "### Выбор лучшего алгоритма машинного обучения для задачи регрессии"
   ]
  },
  {
   "cell_type": "code",
   "execution_count": 7,
   "id": "charitable-potter",
   "metadata": {},
   "outputs": [
    {
     "name": "stdout",
     "output_type": "stream",
     "text": [
      "LinRegr: -0.163207 (0.020251)\n",
      "Ridge: -0.163193 (0.020235)\n",
      "Lasso: -0.180128 (0.014991)\n",
      "ElasticNet: -0.173557 (0.016831)\n",
      "KNN: -0.203824 (0.033883)\n",
      "DTree: -0.299351 (0.051639)\n",
      "SVM: -0.174617 (0.020384)\n"
     ]
    },
    {
     "data": {
      "image/png": "[encoded data removed]",
      "text/plain": [
       "<Figure size 432x288 with 1 Axes>"
      ]
     },
     "metadata": {
      "needs_background": "light"
     },
     "output_type": "display_data"
    }
   ],
   "source": [
    "# Compare Algorithms\n",
    "from pandas import read_csv\n",
    "from matplotlib import pyplot\n",
    "from sklearn.model_selection import KFold\n",
    "from sklearn.model_selection import cross_val_score\n",
    "from sklearn.linear_model import LinearRegression\n",
    "from sklearn.linear_model import Ridge\n",
    "from sklearn.linear_model import Lasso\n",
    "from sklearn.linear_model import ElasticNet\n",
    "from sklearn.neighbors import KNeighborsRegressor\n",
    "from sklearn.tree import DecisionTreeRegressor\n",
    "from sklearn.svm import SVR\n",
    "filename = 'pima-indians-diabetes.data.csv'\n",
    "names = ['preg', 'plas', 'pres', 'skin', 'test', 'mass', 'pedi', 'age', 'class']\n",
    "dataframe = read_csv(filename, names=names)\n",
    "array = dataframe.values\n",
    "X = array[:,0:8]\n",
    "Y = array[:,8]\n",
    "# prepare models\n",
    "models = []\n",
    "models.append(('LinRegr', LinearRegression()))\n",
    "models.append(('Ridge', Ridge()))\n",
    "models.append(('Lasso', Lasso()))\n",
    "models.append(('ElasticNet', ElasticNet()))\n",
    "models.append(('KNN', KNeighborsRegressor()))\n",
    "models.append(('DTree', DecisionTreeRegressor()))\n",
    "models.append(('SVM', SVR()))\n",
    "# evaluate each model in turn\n",
    "results = []\n",
    "names = []\n",
    "scoring = 'neg_mean_squared_error'\n",
    "for name, model in models:\n",
    "    kfold = KFold(n_splits=10, random_state=7, shuffle=True)\n",
    "    cv_results = cross_val_score(model, X, Y, cv=kfold, scoring=scoring)\n",
    "    results.append(cv_results)\n",
    "    names.append(name)\n",
    "    msg = \"%s: %f (%f)\" % (name, cv_results.mean(), cv_results.std())\n",
    "    print(msg)\n",
    "# boxplot algorithm comparison\n",
    "fig = pyplot.figure()\n",
    "fig.suptitle('Algorithm Comparison')\n",
    "ax = fig.add_subplot(111)\n",
    "pyplot.boxplot(results)\n",
    "ax.set_xticklabels(names)\n",
    "pyplot.show()"
   ]
  },
  {
   "cell_type": "markdown",
   "id": "9e55a573",
   "metadata": {},
   "source": [
    "Ящичковая диаграмма - это метод графического изображения групп числовых данных через их квартили. Такой вид диаграммы в удобной форме показывает медиану (или, если нужно, среднее), нижний и верхний квартили, минимальное и максимальное значение выборки и выбросы.Расстояния между различными частями ящика позволяют определить степень разброса (дисперсии) и асимметрии данных и выявить выбросы."
   ]
  },
  {
   "cell_type": "markdown",
   "id": "c2b5e67f",
   "metadata": {},
   "source": [
    "По результатам видим:\n",
    "\n",
    "Коэффициент линейной регрессии равен -0.16, а стандартное отклонение 0.02\n",
    "\n",
    "\n",
    "Коэффициент гребневой регрессии равен -0.16, а стандартное отклонение 0.02\n",
    "\n",
    "\n",
    "Коэффициент регрессии лассо равен -0.18, а стандартное отклонение 0.01\n",
    "\n",
    "\n",
    "Коэффициент эластичной регрессии равен -0.17, а стандартное отклонение 0.01\n",
    "\n",
    "\n",
    "Коэффициент регрессии метода k-ближайших соседей равен -0.2, а стандартное отклонение 0.03\n",
    "\n",
    "\n",
    "Коэффициент регрессии метода деревьев принятия решений равен -0.3, а стандартное отклонение 0.05\n",
    "\n",
    "\n",
    "Коэффициент регрессии метода опорных векторов равен -0.17, а стандартное отклонение 0.02\n",
    "\n",
    "\n",
    "Поэтому можем сказать, что лучше всего работает алгоритм LR и Ridge, а хуже всего метод DTree"
   ]
  },
  {
   "cell_type": "markdown",
   "id": "swiss-overview",
   "metadata": {},
   "source": [
    "### Программный конвеер подготовки данных и моделирования"
   ]
  },
  {
   "cell_type": "markdown",
   "id": "5facbec3",
   "metadata": {},
   "source": [
    "Конвейер обработки данных состоит из связанных между собой узлов, т.е. функций. Узел характеризуется набором входных и выходных каналов, по которым могут передаваться объекты. Узел ожидает появления определенного набора объектов на своем входном канале, после чего проводит вычисления и порождает объект(ы) на своем выходном канале, которые передаются в следующий узел в конвейере"
   ]
  },
  {
   "cell_type": "code",
   "execution_count": 8,
   "id": "animated-practitioner",
   "metadata": {},
   "outputs": [
    {
     "name": "stdout",
     "output_type": "stream",
     "text": [
      "-0.3136534518113465\n"
     ]
    }
   ],
   "source": [
    "# Create a pipeline that standardizes the data then creates a model\n",
    "from pandas import read_csv\n",
    "from sklearn.model_selection import KFold\n",
    "from sklearn.model_selection import cross_val_score\n",
    "from sklearn.preprocessing import StandardScaler\n",
    "from sklearn.pipeline import Pipeline\n",
    "from sklearn.tree import DecisionTreeRegressor\n",
    "# load data\n",
    "filename = 'pima-indians-diabetes.data.csv'\n",
    "names = ['preg', 'plas', 'pres', 'skin', 'test', 'mass', 'pedi', 'age', 'class']\n",
    "dataframe = read_csv(filename, names=names)\n",
    "array = dataframe.values\n",
    "X = array[:,0:8]\n",
    "Y = array[:,8]\n",
    "# create pipeline\n",
    "estimators = []\n",
    "estimators.append(('standardize', StandardScaler()))\n",
    "estimators.append(('DTree', DecisionTreeRegressor()))\n",
    "model = Pipeline(estimators)\n",
    "# evaluate pipeline\n",
    "kfold = KFold(n_splits=10, random_state=7, shuffle=True)\n",
    "results = cross_val_score(model, X, Y, cv=kfold,scoring=scoring)\n",
    "print(results.mean())"
   ]
  },
  {
   "cell_type": "markdown",
   "id": "a080ab52",
   "metadata": {},
   "source": [
    "Значение близко к 0, следовательно, конвеер работает хорошо"
   ]
  },
  {
   "cell_type": "markdown",
   "id": "equal-vintage",
   "metadata": {},
   "source": [
    "### Программный конвеер отбора признаков и моделирования"
   ]
  },
  {
   "cell_type": "code",
   "execution_count": 10,
   "id": "governing-james",
   "metadata": {},
   "outputs": [
    {
     "name": "stdout",
     "output_type": "stream",
     "text": [
      "-0.16335901791191235\n"
     ]
    }
   ],
   "source": [
    "# Create a pipeline that extracts features from the data then creates a model\n",
    "from pandas import read_csv\n",
    "from sklearn.model_selection import KFold\n",
    "from sklearn.model_selection import cross_val_score\n",
    "from sklearn.pipeline import Pipeline\n",
    "from sklearn.pipeline import FeatureUnion\n",
    "from sklearn.linear_model import LinearRegression\n",
    "from sklearn.decomposition import PCA\n",
    "from sklearn.feature_selection import SelectKBest\n",
    "# load data\n",
    "filename = 'pima-indians-diabetes.data.csv'\n",
    "names = ['preg', 'plas', 'pres', 'skin', 'test', 'mass', 'pedi', 'age', 'class']\n",
    "dataframe = read_csv(filename, names=names)\n",
    "array = dataframe.values\n",
    "X = array[:,0:8]\n",
    "Y = array[:,8]\n",
    "# create feature union\n",
    "features = []\n",
    "features.append(('pca', PCA(n_components=4)))\n",
    "features.append(('select_best', SelectKBest(k=6)))\n",
    "feature_union = FeatureUnion(features)\n",
    "# create pipeline\n",
    "estimators = []\n",
    "estimators.append(('feature_union', feature_union))\n",
    "estimators.append(('LinRegr', LinearRegression()))\n",
    "model = Pipeline(estimators)\n",
    "# evaluate pipeline\n",
    "kfold = KFold(n_splits=10, random_state=7, shuffle=True)\n",
    "results = cross_val_score(model, X, Y, cv=kfold,scoring=scoring)\n",
    "print(results.mean())"
   ]
  },
  {
   "cell_type": "markdown",
   "id": "ed767743",
   "metadata": {},
   "source": [
    "Значение близко к 0, следовательно, конвеер работает хорошо"
   ]
  }
 ],
 "metadata": {
  "kernelspec": {
   "display_name": "Python 3 (ipykernel)",
   "language": "python",
   "name": "python3"
  },
  "language_info": {
   "codemirror_mode": {
    "name": "ipython",
    "version": 3
   },
   "file_extension": ".py",
   "mimetype": "text/x-python",
   "name": "python",
   "nbconvert_exporter": "python",
   "pygments_lexer": "ipython3",
   "version": "3.8.8"
  }
 },
 "nbformat": 4,
 "nbformat_minor": 5
}
